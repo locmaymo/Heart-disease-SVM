{
 "cells": [
  {
   "cell_type": "code",
   "execution_count": 29,
   "metadata": {
    "pycharm": {
     "is_executing": true
    }
   },
   "outputs": [],
   "source": [
    "import math\n",
    "import pandas as pd\n",
    "import numpy as np\n",
    "import matplotlib.pyplot as plt\n",
    "import seaborn as sns\n",
    "from mysql.connector import Error, connect\n",
    "import sqlalchemy"
   ]
  },
  {
   "cell_type": "code",
   "execution_count": 86,
   "metadata": {
    "pycharm": {
     "is_executing": true
    }
   },
   "outputs": [],
   "source": [
    "def mse(x, y):\n",
    "    summation = 0\n",
    "    n = len(y)\n",
    "    for i in range(0, n):\n",
    "        difference = y[i] - x[i]\n",
    "        squared_difference = difference ** 2\n",
    "        summation = summation + squared_difference\n",
    "    return summation / n\n",
    "\n",
    "#hàm tương quan\n",
    "def covariance(x,y):\n",
    "    mean_x = sum(x) / float(len(x))\n",
    "    mean_y = sum(y) / float(len(y))\n",
    "    \n",
    "    sub_x = [i - mean_x for i in x]\n",
    "    sub_y = [i - mean_y for i in y]\n",
    "    \n",
    "    numerator = sum([sub_x[i] * sub_y[i] for i in range(len(sub_x))])\n",
    "    denominator = len(x) - 1\n",
    "    cov = numerator / denominator\n",
    "    return cov\n",
    "\n",
    "#hàm phương sai\n",
    "def correlation(x, y):\n",
    "    mean_x = sum(x) / float(len(x))\n",
    "    mean_y = sum(y) / float(len(y))\n",
    "\n",
    "    sub_x = [i - mean_x for i in x]\n",
    "\n",
    "    sub_y = [i - mean_y for i in y]\n",
    "    numerator = sum([sub_x[i] * sub_y[i] for i in range(len(sub_x))])\n",
    "\n",
    "    std_deviation_x = sum([sub_x[i] ** 2.0 for i in range(len(sub_x))])\n",
    "    std_deviation_y = sum([sub_y[i] ** 2.0 for i in range(len(sub_y))])\n",
    "\n",
    "    denominator = (std_deviation_x * std_deviation_y) ** 0.5\n",
    "    cor = numerator / denominator\n",
    "    return cor"
   ]
  },
  {
   "cell_type": "code",
   "execution_count": 33,
   "metadata": {
    "pycharm": {
     "is_executing": true
    }
   },
   "outputs": [
    {
     "data": {
      "text/plain": [
       "array([[44.,  1.,  4., ...,  1.,  0.,  3.],\n",
       "       [48.,  0.,  3., ...,  2.,  1.,  3.],\n",
       "       [47.,  1.,  4., ...,  2.,  0.,  3.],\n",
       "       ...,\n",
       "       [62.,  1.,  3., ...,  1.,  1.,  3.],\n",
       "       [60.,  1.,  3., ...,  2.,  3.,  7.],\n",
       "       [39.,  1.,  3., ...,  1.,  0.,  3.]])"
      ]
     },
     "execution_count": 33,
     "metadata": {},
     "output_type": "execute_result"
    }
   ],
   "source": [
    "#Load dữ liệu\n",
    "df = pd.read_csv('dataset.csv')\n",
    "\n",
    "X = df[['age','sex','cp','trestbps','chol','fbs','restecg','thalach','exang','oldpeak','slope','ca','thal']].values\n",
    "y = df['target'].values\n",
    "X"
   ]
  },
  {
   "cell_type": "code",
   "execution_count": 88,
   "metadata": {
    "pycharm": {
     "is_executing": true
    }
   },
   "outputs": [],
   "source": [
    "#sử dụng StandardScaler xử lý dữ liệu\n",
    "from sklearn.preprocessing import StandardScaler\n",
    "scaler = StandardScaler()\n",
    "scaler.fit(X)\n",
    "standardized_data = scaler.transform(X)\n",
    "X = standardized_data"
   ]
  },
  {
   "cell_type": "code",
   "execution_count": 89,
   "metadata": {
    "pycharm": {
     "is_executing": true
    }
   },
   "outputs": [
    {
     "data": {
      "text/plain": [
       "['age',\n",
       " 'sex',\n",
       " 'cp',\n",
       " 'trestbps',\n",
       " 'chol',\n",
       " 'fbs',\n",
       " 'restecg',\n",
       " 'thalach',\n",
       " 'exang',\n",
       " 'oldpeak',\n",
       " 'slope',\n",
       " 'ca',\n",
       " 'thal']"
      ]
     },
     "execution_count": 89,
     "metadata": {},
     "output_type": "execute_result"
    }
   ],
   "source": [
    "#In ra các features\n",
    "col_names = list(df.columns)\n",
    "col_names.remove('target')\n",
    "col_names"
   ]
  },
  {
   "cell_type": "code",
   "execution_count": 90,
   "metadata": {
    "pycharm": {
     "is_executing": true
    }
   },
   "outputs": [
    {
     "data": {
      "text/html": [
       "<div>\n",
       "<style scoped>\n",
       "    .dataframe tbody tr th:only-of-type {\n",
       "        vertical-align: middle;\n",
       "    }\n",
       "\n",
       "    .dataframe tbody tr th {\n",
       "        vertical-align: top;\n",
       "    }\n",
       "\n",
       "    .dataframe thead th {\n",
       "        text-align: right;\n",
       "    }\n",
       "</style>\n",
       "<table border=\"1\" class=\"dataframe\">\n",
       "  <thead>\n",
       "    <tr style=\"text-align: right;\">\n",
       "      <th></th>\n",
       "      <th>col</th>\n",
       "      <th>cov</th>\n",
       "      <th>corr</th>\n",
       "    </tr>\n",
       "  </thead>\n",
       "  <tbody>\n",
       "    <tr>\n",
       "      <th>0</th>\n",
       "      <td>age</td>\n",
       "      <td>-0.933732</td>\n",
       "      <td>-0.1925</td>\n",
       "    </tr>\n",
       "    <tr>\n",
       "      <th>1</th>\n",
       "      <td>sex</td>\n",
       "      <td>-0.059651</td>\n",
       "      <td>-0.256453</td>\n",
       "    </tr>\n",
       "    <tr>\n",
       "      <th>2</th>\n",
       "      <td>cp</td>\n",
       "      <td>-0.184409</td>\n",
       "      <td>-0.390689</td>\n",
       "    </tr>\n",
       "    <tr>\n",
       "      <th>3</th>\n",
       "      <td>trestbps</td>\n",
       "      <td>-1.167041</td>\n",
       "      <td>-0.123362</td>\n",
       "    </tr>\n",
       "    <tr>\n",
       "      <th>4</th>\n",
       "      <td>chol</td>\n",
       "      <td>-1.679262</td>\n",
       "      <td>-0.078769</td>\n",
       "    </tr>\n",
       "    <tr>\n",
       "      <th>5</th>\n",
       "      <td>fbs</td>\n",
       "      <td>0.005398</td>\n",
       "      <td>0.030526</td>\n",
       "    </tr>\n",
       "    <tr>\n",
       "      <th>6</th>\n",
       "      <td>restecg</td>\n",
       "      <td>-0.08668</td>\n",
       "      <td>-0.174844</td>\n",
       "    </tr>\n",
       "    <tr>\n",
       "      <th>7</th>\n",
       "      <td>thalach</td>\n",
       "      <td>4.780613</td>\n",
       "      <td>0.400367</td>\n",
       "    </tr>\n",
       "    <tr>\n",
       "      <th>8</th>\n",
       "      <td>exang</td>\n",
       "      <td>-0.086294</td>\n",
       "      <td>-0.368824</td>\n",
       "    </tr>\n",
       "    <tr>\n",
       "      <th>9</th>\n",
       "      <td>oldpeak</td>\n",
       "      <td>-0.210316</td>\n",
       "      <td>-0.379669</td>\n",
       "    </tr>\n",
       "    <tr>\n",
       "      <th>10</th>\n",
       "      <td>slope</td>\n",
       "      <td>-0.09354</td>\n",
       "      <td>-0.306457</td>\n",
       "    </tr>\n",
       "    <tr>\n",
       "      <th>11</th>\n",
       "      <td>ca</td>\n",
       "      <td>-0.191592</td>\n",
       "      <td>-0.40857</td>\n",
       "    </tr>\n",
       "    <tr>\n",
       "      <th>12</th>\n",
       "      <td>thal</td>\n",
       "      <td>-0.207012</td>\n",
       "      <td>-0.338469</td>\n",
       "    </tr>\n",
       "  </tbody>\n",
       "</table>\n",
       "</div>"
      ],
      "text/plain": [
       "         col       cov      corr\n",
       "0        age -0.933732   -0.1925\n",
       "1        sex -0.059651 -0.256453\n",
       "2         cp -0.184409 -0.390689\n",
       "3   trestbps -1.167041 -0.123362\n",
       "4       chol -1.679262 -0.078769\n",
       "5        fbs  0.005398  0.030526\n",
       "6    restecg  -0.08668 -0.174844\n",
       "7    thalach  4.780613  0.400367\n",
       "8      exang -0.086294 -0.368824\n",
       "9    oldpeak -0.210316 -0.379669\n",
       "10     slope  -0.09354 -0.306457\n",
       "11        ca -0.191592  -0.40857\n",
       "12      thal -0.207012 -0.338469"
      ]
     },
     "execution_count": 90,
     "metadata": {},
     "output_type": "execute_result"
    }
   ],
   "source": [
    "cov = [covariance(df[name], df['target']) for name in col_names]\n",
    "corr = [correlation(df[name], df['target']) for name in col_names]\n",
    "\n",
    "corr_df = pd.DataFrame([col_names, cov, corr]).T\n",
    "corr_df.columns = ['col', 'cov', 'corr']\n",
    "corr_df"
   ]
  },
  {
   "cell_type": "code",
   "execution_count": 37,
   "metadata": {},
   "outputs": [
    {
     "data": {
      "image/png": "[encoded data removed]",
      "text/plain": [
       "<Figure size 1080x720 with 2 Axes>"
      ]
     },
     "metadata": {},
     "output_type": "display_data"
    }
   ],
   "source": [
    "#Bảng corr\n",
    "sns.set(rc={'figure.figsize':(15,10)})\n",
    "sns.heatmap(df.iloc[:,0:14].corr(), annot=True, cmap=\"Pastel1\")\n",
    "plt.show()"
   ]
  },
  {
   "cell_type": "code",
   "execution_count": 92,
   "metadata": {
    "pycharm": {
     "is_executing": true
    }
   },
   "outputs": [],
   "source": [
    "+#thuật toán SVM\n",
    "class SVM_classifier():\n",
    "\n",
    "\n",
    "  # khởi tạo hyperparameters\n",
    "  def __init__(self, learning_rate, no_of_iterations, lambda_parameter):\n",
    "\n",
    "    self.learning_rate = learning_rate\n",
    "    self.no_of_iterations = no_of_iterations\n",
    "    self.lambda_parameter = lambda_parameter\n",
    "\n",
    "\n",
    "  \n",
    "  # fit dataset với SVM Classifier\n",
    "  def fit(self, X, Y):\n",
    "\n",
    "    \n",
    "    self.m, self.n = X.shape\n",
    "\n",
    "    \n",
    "    #khởi tạo trọng số và độ lệch\n",
    "\n",
    "    self.w = np.zeros(self.n)\n",
    "\n",
    "    self.b = 0\n",
    "\n",
    "    self.X = X\n",
    "\n",
    "    self.Y = Y\n",
    "\n",
    "    # thiết lập thuật toán Gradient Descent để tối ưu hóa\n",
    "\n",
    "    for i in range(self.no_of_iterations):\n",
    "      self.update_weights()\n",
    "\n",
    "\n",
    "\n",
    "  # hàm update trọng số và độ lệch\n",
    "  def update_weights(self):\n",
    "\n",
    "    # label encoding\n",
    "    y_label = np.where(self.Y <= 0, -1, 1)\n",
    "\n",
    "\n",
    "\n",
    "    # gradients ( dw, db)\n",
    "    for index, x_i in enumerate(self.X):\n",
    "\n",
    "      condition = y_label[index] * (np.dot(x_i, self.w) - self.b) >= 1\n",
    "\n",
    "      if (condition == True):\n",
    "\n",
    "        dw = 2 * self.lambda_parameter * self.w\n",
    "        db = 0\n",
    "\n",
    "      else:\n",
    "\n",
    "        dw = 2 * self.lambda_parameter * self.w - np.dot(x_i, y_label[index])\n",
    "        db = y_label[index]\n",
    "\n",
    "\n",
    "      self.w = self.w - self.learning_rate * dw\n",
    "\n",
    "      self.b = self.b - self.learning_rate * db\n",
    "\n",
    "\n",
    "\n",
    "  \n",
    "  # dự đoán label cho một giá trị input\n",
    "  def predict(self, X):\n",
    "\n",
    "    output = np.dot(X, self.w) - self.b\n",
    "    \n",
    "    predicted_labels = np.sign(output)\n",
    "\n",
    "    y_hat = np.where(predicted_labels <= -1, 0, 1)\n",
    "\n",
    "    return y_hat  \n",
    "\n"
   ]
  },
  {
   "cell_type": "code",
   "execution_count": 93,
   "metadata": {
    "pycharm": {
     "is_executing": true
    }
   },
   "outputs": [],
   "source": [
    "#Hàm chia tập dữ liệu\n",
    "import random\n",
    "\n",
    "def random_split_data(X, y, split_ratio = 0.8):\n",
    "\n",
    "\n",
    "        #lấy kích thước\n",
    "        m, n =X.shape\n",
    "\n",
    "        #random\n",
    "        random_idx = list(range(m))\n",
    "        random.shuffle(random_idx)\n",
    "\n",
    "        #chia\n",
    "        threshold = int(m*split_ratio)\n",
    "\n",
    "        train_idx = random_idx[:threshold]\n",
    "        test_idx = random_idx[threshold:]\n",
    "\n",
    "        X_train = X[train_idx,:]\n",
    "        y_train = y[train_idx]\n",
    "        X_test = X[test_idx,:]\n",
    "        y_test = y[test_idx]\n",
    "\n",
    "        return X_train, y_train, X_test, y_test"
   ]
  },
  {
   "cell_type": "code",
   "execution_count": 94,
   "metadata": {
    "pycharm": {
     "is_executing": true
    }
   },
   "outputs": [
    {
     "name": "stdout",
     "output_type": "stream",
     "text": [
      "Kích thước tập train: (16848, 13)\n",
      "Kích thước tập test: (4212, 13)\n"
     ]
    }
   ],
   "source": [
    "X_train, y_train, X_test, y_test = random_split_data(X,y)\n",
    "print(f\"Kích thước tập train: {X_train.shape}\")\n",
    "print(f\"Kích thước tập test: {X_test.shape}\")"
   ]
  },
  {
   "cell_type": "code",
   "execution_count": 95,
   "metadata": {
    "pycharm": {
     "is_executing": true
    }
   },
   "outputs": [],
   "source": [
    "classifier = SVM_classifier(learning_rate=0.001, no_of_iterations=1000, lambda_parameter=0.01)\n",
    "classifier.fit(X_train, y_train)\n",
    "X_train_prediction = classifier.predict(X_test)"
   ]
  },
  {
   "cell_type": "code",
   "execution_count": 96,
   "metadata": {
    "pycharm": {
     "is_executing": true
    }
   },
   "outputs": [],
   "source": [
    "#Hàm tính độ chính xác\n",
    "def compute_accuracy(y_test, X_train_prediction):\n",
    "    correctly_predicted = 0\n",
    "    for true_label, predicted in zip(y_test, X_train_prediction):\n",
    "        if true_label == predicted:\n",
    "            correctly_predicted += 1\n",
    "    accuracy_score = correctly_predicted / len(y_test)\n",
    "    return accuracy_score"
   ]
  },
  {
   "cell_type": "code",
   "execution_count": 97,
   "metadata": {
    "pycharm": {
     "is_executing": true
    }
   },
   "outputs": [
    {
     "name": "stdout",
     "output_type": "stream",
     "text": [
      "Độ chính xác của mô hình:  0.8390313390313391\n"
     ]
    }
   ],
   "source": [
    "#In ra độ chính xác mô hình\n",
    "print(f\"Độ chính xác của mô hình: \",compute_accuracy(y_test, X_train_prediction))"
   ]
  },
  {
   "cell_type": "code",
   "execution_count": 98,
   "metadata": {
    "pycharm": {
     "is_executing": true
    }
   },
   "outputs": [
    {
     "name": "stdout",
     "output_type": "stream",
     "text": [
      "      predict  actual\n",
      "0           1       1\n",
      "1           1       0\n",
      "2           1       0\n",
      "3           0       0\n",
      "4           0       0\n",
      "...       ...     ...\n",
      "4207        1       1\n",
      "4208        1       1\n",
      "4209        0       0\n",
      "4210        1       1\n",
      "4211        1       1\n",
      "\n",
      "[4212 rows x 2 columns]\n"
     ]
    }
   ],
   "source": [
    "result = pd.DataFrame({\"predict\": X_train_prediction,\"actual\": y_test})\n",
    "print(result)\n"
   ]
  },
  {
   "cell_type": "code",
   "execution_count": 99,
   "metadata": {
    "pycharm": {
     "is_executing": true
    }
   },
   "outputs": [
    {
     "name": "stdout",
     "output_type": "stream",
     "text": [
      "col_0     0     1\n",
      "row_0            \n",
      "0      1421   213\n",
      "1       465  2113\n"
     ]
    }
   ],
   "source": [
    "print(pd.crosstab(X_train_prediction, y_test))"
   ]
  },
  {
   "cell_type": "code",
   "execution_count": 100,
   "metadata": {
    "pycharm": {
     "is_executing": true
    }
   },
   "outputs": [
    {
     "data": {
      "image/png": "[encoded data removed]",
      "text/plain": [
       "<Figure size 1080x720 with 2 Axes>"
      ]
     },
     "metadata": {},
     "output_type": "display_data"
    }
   ],
   "source": [
    "import scikitplot as skplt\n",
    "\n",
    "skplt.metrics.plot_confusion_matrix(y_test,X_train_prediction,normalize=False)\n",
    "plt.show()"
   ]
  },
  {
   "cell_type": "code",
   "execution_count": 101,
   "metadata": {},
   "outputs": [
    {
     "data": {
      "text/html": [
       "<div>\n",
       "<style scoped>\n",
       "    .dataframe tbody tr th:only-of-type {\n",
       "        vertical-align: middle;\n",
       "    }\n",
       "\n",
       "    .dataframe tbody tr th {\n",
       "        vertical-align: top;\n",
       "    }\n",
       "\n",
       "    .dataframe thead th {\n",
       "        text-align: right;\n",
       "    }\n",
       "</style>\n",
       "<table border=\"1\" class=\"dataframe\">\n",
       "  <thead>\n",
       "    <tr style=\"text-align: right;\">\n",
       "      <th></th>\n",
       "      <th>feature</th>\n",
       "      <th>corr</th>\n",
       "    </tr>\n",
       "  </thead>\n",
       "  <tbody>\n",
       "    <tr>\n",
       "      <th>0</th>\n",
       "      <td>age</td>\n",
       "      <td>-0.192500</td>\n",
       "    </tr>\n",
       "    <tr>\n",
       "      <th>1</th>\n",
       "      <td>sex</td>\n",
       "      <td>-0.256453</td>\n",
       "    </tr>\n",
       "    <tr>\n",
       "      <th>2</th>\n",
       "      <td>cp</td>\n",
       "      <td>-0.390689</td>\n",
       "    </tr>\n",
       "    <tr>\n",
       "      <th>3</th>\n",
       "      <td>trestbps</td>\n",
       "      <td>-0.123362</td>\n",
       "    </tr>\n",
       "    <tr>\n",
       "      <th>4</th>\n",
       "      <td>chol</td>\n",
       "      <td>-0.078769</td>\n",
       "    </tr>\n",
       "    <tr>\n",
       "      <th>5</th>\n",
       "      <td>fbs</td>\n",
       "      <td>0.030526</td>\n",
       "    </tr>\n",
       "    <tr>\n",
       "      <th>6</th>\n",
       "      <td>restecg</td>\n",
       "      <td>-0.174844</td>\n",
       "    </tr>\n",
       "    <tr>\n",
       "      <th>7</th>\n",
       "      <td>thalach</td>\n",
       "      <td>0.400367</td>\n",
       "    </tr>\n",
       "    <tr>\n",
       "      <th>8</th>\n",
       "      <td>exang</td>\n",
       "      <td>-0.368824</td>\n",
       "    </tr>\n",
       "    <tr>\n",
       "      <th>9</th>\n",
       "      <td>oldpeak</td>\n",
       "      <td>-0.379669</td>\n",
       "    </tr>\n",
       "    <tr>\n",
       "      <th>10</th>\n",
       "      <td>slope</td>\n",
       "      <td>-0.306457</td>\n",
       "    </tr>\n",
       "    <tr>\n",
       "      <th>11</th>\n",
       "      <td>ca</td>\n",
       "      <td>-0.408570</td>\n",
       "    </tr>\n",
       "    <tr>\n",
       "      <th>12</th>\n",
       "      <td>thal</td>\n",
       "      <td>-0.338469</td>\n",
       "    </tr>\n",
       "  </tbody>\n",
       "</table>\n",
       "</div>"
      ],
      "text/plain": [
       "     feature      corr\n",
       "0        age -0.192500\n",
       "1        sex -0.256453\n",
       "2         cp -0.390689\n",
       "3   trestbps -0.123362\n",
       "4       chol -0.078769\n",
       "5        fbs  0.030526\n",
       "6    restecg -0.174844\n",
       "7    thalach  0.400367\n",
       "8      exang -0.368824\n",
       "9    oldpeak -0.379669\n",
       "10     slope -0.306457\n",
       "11        ca -0.408570\n",
       "12      thal -0.338469"
      ]
     },
     "execution_count": 101,
     "metadata": {},
     "output_type": "execute_result"
    }
   ],
   "source": [
    "x = df.drop(columns=['target'])\n",
    "corr = []\n",
    "\n",
    "for i in x:\n",
    "    corr.append({'feature': i, 'corr': correlation(x[i], y)})\n",
    "corr = pd.DataFrame(data=corr, index=range(len(corr)), columns=['feature', 'corr'])\n",
    "corr"
   ]
  },
  {
   "cell_type": "code",
   "execution_count": 30,
   "metadata": {},
   "outputs": [],
   "source": [
    "#Tạo database trong mysql\n",
    "\n",
    "def create_db(host, user, password, database):\n",
    "    try:\n",
    "        con = connect(\n",
    "            host=host,\n",
    "            user=user,\n",
    "            password=password,\n",
    "        )\n",
    "        cursor = con.cursor()\n",
    "        cursor.execute(\"CREATE DATABASE \" + database)\n",
    "    except Error as e:\n",
    "        print(e)\n",
    "    finally:\n",
    "        cursor.close()\n",
    "        con.close()\n",
    "\n",
    "\n",
    "#Tạo bảng\n",
    "def create_tbl(host, user, password, database, table, dataFrame):\n",
    "    database_connection = sqlalchemy.create_engine(\n",
    "        'mysql+mysqlconnector://{0}:{1}@{2}/{3}'.format(user, password, host, database))\n",
    "    dataFrame.to_sql(con=database_connection, name=table, if_exists='replace')\n",
    "\n",
    "\n",
    "# create_db('localhost', 'root', 'locloc11', \"btl_iot\")\n",
    "# create_tbl('localhost', 'root', 'locloc11', \"btl_iot\", \"corr_tbl\", corr)\n",
    "\n",
    "create_tbl('localhost', 'root', 'locloc11', \"btl_iot\", \"sklearn\", result2)"
   ]
  },
  {
   "cell_type": "code",
   "execution_count": 20,
   "metadata": {},
   "outputs": [
    {
     "data": {
      "text/html": [
       "<style>#sk-container-id-1 {color: black;background-color: white;}#sk-container-id-1 pre{padding: 0;}#sk-container-id-1 div.sk-toggleable {background-color: white;}#sk-container-id-1 label.sk-toggleable__label {cursor: pointer;display: block;width: 100%;margin-bottom: 0;padding: 0.3em;box-sizing: border-box;text-align: center;}#sk-container-id-1 label.sk-toggleable__label-arrow:before {content: \"▸\";float: left;margin-right: 0.25em;color: #696969;}#sk-container-id-1 label.sk-toggleable__label-arrow:hover:before {color: black;}#sk-container-id-1 div.sk-estimator:hover label.sk-toggleable__label-arrow:before {color: black;}#sk-container-id-1 div.sk-toggleable__content {max-height: 0;max-width: 0;overflow: hidden;text-align: left;background-color: #f0f8ff;}#sk-container-id-1 div.sk-toggleable__content pre {margin: 0.2em;color: black;border-radius: 0.25em;background-color: #f0f8ff;}#sk-container-id-1 input.sk-toggleable__control:checked~div.sk-toggleable__content {max-height: 200px;max-width: 100%;overflow: auto;}#sk-container-id-1 input.sk-toggleable__control:checked~label.sk-toggleable__label-arrow:before {content: \"▾\";}#sk-container-id-1 div.sk-estimator input.sk-toggleable__control:checked~label.sk-toggleable__label {background-color: #d4ebff;}#sk-container-id-1 div.sk-label input.sk-toggleable__control:checked~label.sk-toggleable__label {background-color: #d4ebff;}#sk-container-id-1 input.sk-hidden--visually {border: 0;clip: rect(1px 1px 1px 1px);clip: rect(1px, 1px, 1px, 1px);height: 1px;margin: -1px;overflow: hidden;padding: 0;position: absolute;width: 1px;}#sk-container-id-1 div.sk-estimator {font-family: monospace;background-color: #f0f8ff;border: 1px dotted black;border-radius: 0.25em;box-sizing: border-box;margin-bottom: 0.5em;}#sk-container-id-1 div.sk-estimator:hover {background-color: #d4ebff;}#sk-container-id-1 div.sk-parallel-item::after {content: \"\";width: 100%;border-bottom: 1px solid gray;flex-grow: 1;}#sk-container-id-1 div.sk-label:hover label.sk-toggleable__label {background-color: #d4ebff;}#sk-container-id-1 div.sk-serial::before {content: \"\";position: absolute;border-left: 1px solid gray;box-sizing: border-box;top: 0;bottom: 0;left: 50%;z-index: 0;}#sk-container-id-1 div.sk-serial {display: flex;flex-direction: column;align-items: center;background-color: white;padding-right: 0.2em;padding-left: 0.2em;position: relative;}#sk-container-id-1 div.sk-item {position: relative;z-index: 1;}#sk-container-id-1 div.sk-parallel {display: flex;align-items: stretch;justify-content: center;background-color: white;position: relative;}#sk-container-id-1 div.sk-item::before, #sk-container-id-1 div.sk-parallel-item::before {content: \"\";position: absolute;border-left: 1px solid gray;box-sizing: border-box;top: 0;bottom: 0;left: 50%;z-index: -1;}#sk-container-id-1 div.sk-parallel-item {display: flex;flex-direction: column;z-index: 1;position: relative;background-color: white;}#sk-container-id-1 div.sk-parallel-item:first-child::after {align-self: flex-end;width: 50%;}#sk-container-id-1 div.sk-parallel-item:last-child::after {align-self: flex-start;width: 50%;}#sk-container-id-1 div.sk-parallel-item:only-child::after {width: 0;}#sk-container-id-1 div.sk-dashed-wrapped {border: 1px dashed gray;margin: 0 0.4em 0.5em 0.4em;box-sizing: border-box;padding-bottom: 0.4em;background-color: white;}#sk-container-id-1 div.sk-label label {font-family: monospace;font-weight: bold;display: inline-block;line-height: 1.2em;}#sk-container-id-1 div.sk-label-container {text-align: center;}#sk-container-id-1 div.sk-container {/* jupyter's `normalize.less` sets `[hidden] { display: none; }` but bootstrap.min.css set `[hidden] { display: none !important; }` so we also need the `!important` here to be able to override the default hidden behavior on the sphinx rendered scikit-learn.org. See: https://github.com/scikit-learn/scikit-learn/issues/21755 */display: inline-block !important;position: relative;}#sk-container-id-1 div.sk-text-repr-fallback {display: none;}</style><div id=\"sk-container-id-1\" class=\"sk-top-container\"><div class=\"sk-text-repr-fallback\"><pre>SVC(kernel=&#x27;linear&#x27;)</pre><b>In a Jupyter environment, please rerun this cell to show the HTML representation or trust the notebook. <br />On GitHub, the HTML representation is unable to render, please try loading this page with nbviewer.org.</b></div><div class=\"sk-container\" hidden><div class=\"sk-item\"><div class=\"sk-estimator sk-toggleable\"><input class=\"sk-toggleable__control sk-hidden--visually\" id=\"sk-estimator-id-1\" type=\"checkbox\" checked><label for=\"sk-estimator-id-1\" class=\"sk-toggleable__label sk-toggleable__label-arrow\">SVC</label><div class=\"sk-toggleable__content\"><pre>SVC(kernel=&#x27;linear&#x27;)</pre></div></div></div></div></div>"
      ],
      "text/plain": [
       "SVC(kernel='linear')"
      ]
     },
     "execution_count": 20,
     "metadata": {},
     "output_type": "execute_result"
    }
   ],
   "source": [
    "#thuật toán svm của sklearn để so sánh với thuật toán tự thiết lập\n",
    "from sklearn import svm\n",
    "clf = svm.SVC(kernel = 'linear')\n",
    "clf.fit(X_train, y_train)"
   ]
  },
  {
   "cell_type": "code",
   "execution_count": 23,
   "metadata": {},
   "outputs": [],
   "source": [
    "pred2 = clf.predict(X_test)"
   ]
  },
  {
   "cell_type": "code",
   "execution_count": 26,
   "metadata": {},
   "outputs": [
    {
     "data": {
      "text/plain": [
       "0.8378442545109211"
      ]
     },
     "execution_count": 26,
     "metadata": {},
     "output_type": "execute_result"
    }
   ],
   "source": [
    "#in điểm chính xác của svm sklearn\n",
    "from sklearn.metrics import accuracy_score\n",
    "accuracy_score(y_test, pred2)"
   ]
  },
  {
   "cell_type": "code",
   "execution_count": 28,
   "metadata": {},
   "outputs": [
    {
     "name": "stdout",
     "output_type": "stream",
     "text": [
      "      predict  actual\n",
      "0           0       0\n",
      "1           0       0\n",
      "2           1       0\n",
      "3           1       1\n",
      "4           1       1\n",
      "...       ...     ...\n",
      "4207        1       0\n",
      "4208        0       0\n",
      "4209        1       1\n",
      "4210        0       0\n",
      "4211        1       1\n",
      "\n",
      "[4212 rows x 2 columns]\n"
     ]
    }
   ],
   "source": [
    "result2 = pd.DataFrame({\"predict\": pred2,\"actual\": y_test})\n",
    "print(result2)\n"
   ]
  },
  {
   "cell_type": "code",
   "execution_count": null,
   "metadata": {},
   "outputs": [],
   "source": []
  }
 ],
 "metadata": {
  "kernelspec": {
   "display_name": "Python 3 (ipykernel)",
   "language": "python",
   "name": "python3"
  },
  "language_info": {
   "codemirror_mode": {
    "name": "ipython",
    "version": 3
   },
   "file_extension": ".py",
   "mimetype": "text/x-python",
   "name": "python",
   "nbconvert_exporter": "python",
   "pygments_lexer": "ipython3",
   "version": "3.9.12"
  }
 },
 "nbformat": 4,
 "nbformat_minor": 1
}
